{
  "nbformat": 4,
  "nbformat_minor": 0,
  "metadata": {
    "colab": {
      "provenance": []
    },
    "kernelspec": {
      "name": "python3",
      "display_name": "Python 3"
    },
    "language_info": {
      "name": "python"
    }
  },
  "cells": [
    {
      "cell_type": "code",
      "execution_count": null,
      "metadata": {
        "colab": {
          "base_uri": "https://localhost:8080/"
        },
        "id": "Rs_bHxI90hwJ",
        "outputId": "49e8467c-6b67-4557-b7ba-00c831ad5a8d"
      },
      "outputs": [
        {
          "output_type": "stream",
          "name": "stdout",
          "text": [
            "Collecting pyspark\n",
            "  Downloading pyspark-3.5.0.tar.gz (316.9 MB)\n",
            "\u001b[2K     \u001b[90m━━━━━━━━━━━━━━━━━━━━━━━━━━━━━━━━━━━━━━━━\u001b[0m \u001b[32m316.9/316.9 MB\u001b[0m \u001b[31m4.7 MB/s\u001b[0m eta \u001b[36m0:00:00\u001b[0m\n",
            "\u001b[?25h  Preparing metadata (setup.py) ... \u001b[?25l\u001b[?25hdone\n",
            "Requirement already satisfied: py4j==0.10.9.7 in /usr/local/lib/python3.10/dist-packages (from pyspark) (0.10.9.7)\n",
            "Building wheels for collected packages: pyspark\n",
            "  Building wheel for pyspark (setup.py) ... \u001b[?25l\u001b[?25hdone\n",
            "  Created wheel for pyspark: filename=pyspark-3.5.0-py2.py3-none-any.whl size=317425344 sha256=e7025ee09b539035261897e090404250d88680e7de4a85d9a769f719e4abf864\n",
            "  Stored in directory: /root/.cache/pip/wheels/41/4e/10/c2cf2467f71c678cfc8a6b9ac9241e5e44a01940da8fbb17fc\n",
            "Successfully built pyspark\n",
            "Installing collected packages: pyspark\n",
            "Successfully installed pyspark-3.5.0\n"
          ]
        }
      ],
      "source": [
        "! pip install pyspark"
      ]
    },
    {
      "cell_type": "code",
      "source": [
        "from pyspark.sql import SparkSession"
      ],
      "metadata": {
        "id": "NfiWKEyP0l2X"
      },
      "execution_count": null,
      "outputs": []
    },
    {
      "cell_type": "code",
      "source": [
        "spark = SparkSession.builder.appName(\"Data Frames\").getOrCreate()"
      ],
      "metadata": {
        "id": "lKbCDH2903G5"
      },
      "execution_count": null,
      "outputs": []
    },
    {
      "cell_type": "code",
      "source": [
        "l = [('lio',31,50.0,'foot'),\n",
        "     ('Lebron', 33, 38.5, 'Basket'),\n",
        "     ('Novak', 31, 15.0, 'Tennis'),\n",
        "     ('Kobe', 40, 24.5, 'Basket'),\n",
        "     ('Cristiano', 34, 30.0, 'Foot'),\n",
        "     ('Neymar',26 ,36.8, 'Foot')\n",
        "]"
      ],
      "metadata": {
        "id": "eo9m71Hu1C3H"
      },
      "execution_count": null,
      "outputs": []
    },
    {
      "cell_type": "code",
      "source": [
        "rdd = spark.sparkContext.parallelize(l)"
      ],
      "metadata": {
        "id": "kQV5EwnZ1Sa8"
      },
      "execution_count": null,
      "outputs": []
    },
    {
      "cell_type": "code",
      "source": [
        "rdd.take(5)"
      ],
      "metadata": {
        "colab": {
          "base_uri": "https://localhost:8080/"
        },
        "id": "mXDqqF4O1X_e",
        "outputId": "72f36909-2588-48fe-c333-85608ee6db45"
      },
      "execution_count": null,
      "outputs": [
        {
          "output_type": "execute_result",
          "data": {
            "text/plain": [
              "[('lio', 31, 50.0, 'foot'),\n",
              " ('Lebron', 33, 38.5, 'Basket'),\n",
              " ('Novak', 31, 15.0, 'Tennis'),\n",
              " ('Kobe', 40, 24.5, 'Basket'),\n",
              " ('Cristiano', 34, 30.0, 'Foot')]"
            ]
          },
          "metadata": {},
          "execution_count": 6
        }
      ]
    },
    {
      "cell_type": "code",
      "source": [
        "df = spark.createDataFrame(rdd)"
      ],
      "metadata": {
        "id": "yLWutPlZ1Z51"
      },
      "execution_count": null,
      "outputs": []
    },
    {
      "cell_type": "code",
      "source": [
        "df"
      ],
      "metadata": {
        "colab": {
          "base_uri": "https://localhost:8080/"
        },
        "id": "XfbcmAet1ftG",
        "outputId": "4f4244a7-2cda-42c3-ffc4-8e32e790f60c"
      },
      "execution_count": null,
      "outputs": [
        {
          "output_type": "execute_result",
          "data": {
            "text/plain": [
              "DataFrame[_1: string, _2: bigint, _3: double, _4: string]"
            ]
          },
          "metadata": {},
          "execution_count": 8
        }
      ]
    },
    {
      "cell_type": "code",
      "source": [
        "df.show()"
      ],
      "metadata": {
        "colab": {
          "base_uri": "https://localhost:8080/"
        },
        "id": "7C6x29Nm1j-2",
        "outputId": "0f5b732d-0a46-4fce-c40d-d421c18a18d4"
      },
      "execution_count": null,
      "outputs": [
        {
          "output_type": "stream",
          "name": "stdout",
          "text": [
            "+---------+---+----+------+\n",
            "|       _1| _2|  _3|    _4|\n",
            "+---------+---+----+------+\n",
            "|      lio| 31|50.0|  foot|\n",
            "|   Lebron| 33|38.5|Basket|\n",
            "|    Novak| 31|15.0|Tennis|\n",
            "|     Kobe| 40|24.5|Basket|\n",
            "|Cristiano| 34|30.0|  Foot|\n",
            "|   Neymar| 26|36.8|  Foot|\n",
            "+---------+---+----+------+\n",
            "\n"
          ]
        }
      ]
    },
    {
      "cell_type": "code",
      "source": [
        "df1 = spark.createDataFrame(rdd, schema=['Name','Age','Salary','Sport'])"
      ],
      "metadata": {
        "id": "ED0kR1Dh1mTH"
      },
      "execution_count": null,
      "outputs": []
    },
    {
      "cell_type": "code",
      "source": [
        "df1.show()"
      ],
      "metadata": {
        "colab": {
          "base_uri": "https://localhost:8080/"
        },
        "id": "6JNkqpEX1mKM",
        "outputId": "b497157d-0f33-4a94-9c43-152472fbe665"
      },
      "execution_count": null,
      "outputs": [
        {
          "output_type": "stream",
          "name": "stdout",
          "text": [
            "+---------+---+------+------+\n",
            "|     Name|Age|Salary| Sport|\n",
            "+---------+---+------+------+\n",
            "|      lio| 31|  50.0|  foot|\n",
            "|   Lebron| 33|  38.5|Basket|\n",
            "|    Novak| 31|  15.0|Tennis|\n",
            "|     Kobe| 40|  24.5|Basket|\n",
            "|Cristiano| 34|  30.0|  Foot|\n",
            "|   Neymar| 26|  36.8|  Foot|\n",
            "+---------+---+------+------+\n",
            "\n"
          ]
        }
      ]
    },
    {
      "cell_type": "code",
      "source": [
        "df1.describe()"
      ],
      "metadata": {
        "colab": {
          "base_uri": "https://localhost:8080/"
        },
        "id": "0E3DyJHX101v",
        "outputId": "17ab9c23-20ea-4ebe-ff9b-1a7d2a968c89"
      },
      "execution_count": null,
      "outputs": [
        {
          "output_type": "execute_result",
          "data": {
            "text/plain": [
              "DataFrame[summary: string, Name: string, Age: string, Salary: string, Sport: string]"
            ]
          },
          "metadata": {},
          "execution_count": 13
        }
      ]
    },
    {
      "cell_type": "code",
      "source": [
        "from pyspark.sql.types import *"
      ],
      "metadata": {
        "id": "_arr8qs72NsY"
      },
      "execution_count": null,
      "outputs": []
    },
    {
      "cell_type": "code",
      "source": [
        "mySchema = StructType([\n",
        "      StructField(\"Name\", StringType(), True),\n",
        "      StructField(\"Age\", IntegerType(), True),\n",
        "      StructField(\"Salary\", DoubleType(), True),\n",
        "      StructField(\"Sport\", StringType(), True),\n",
        "\n",
        "\n",
        "])"
      ],
      "metadata": {
        "id": "acY25t-T2cou"
      },
      "execution_count": null,
      "outputs": []
    },
    {
      "cell_type": "code",
      "source": [
        "df2 = spark.createDataFrame(rdd, schema = mySchema)"
      ],
      "metadata": {
        "id": "R3pF_g7O202R"
      },
      "execution_count": null,
      "outputs": []
    },
    {
      "cell_type": "code",
      "source": [
        "df2.describe"
      ],
      "metadata": {
        "colab": {
          "base_uri": "https://localhost:8080/"
        },
        "id": "WkqQPgOa3BHS",
        "outputId": "9637e8ce-9795-4201-f6ea-e6986aaa6533"
      },
      "execution_count": null,
      "outputs": [
        {
          "output_type": "execute_result",
          "data": {
            "text/plain": [
              "<bound method DataFrame.describe of DataFrame[Name: string, Age: int, Salary: double, Sport: string]>"
            ]
          },
          "metadata": {},
          "execution_count": 21
        }
      ]
    },
    {
      "cell_type": "code",
      "source": [
        "df2.printSchema()"
      ],
      "metadata": {
        "colab": {
          "base_uri": "https://localhost:8080/"
        },
        "id": "xpvAp4Vs3N75",
        "outputId": "2e657a50-0d78-42f2-fee7-80e748fabb30"
      },
      "execution_count": null,
      "outputs": [
        {
          "output_type": "stream",
          "name": "stdout",
          "text": [
            "root\n",
            " |-- Name: string (nullable = true)\n",
            " |-- Age: integer (nullable = true)\n",
            " |-- Salary: double (nullable = true)\n",
            " |-- Sport: string (nullable = true)\n",
            "\n"
          ]
        }
      ]
    },
    {
      "cell_type": "code",
      "source": [
        "df2.show()"
      ],
      "metadata": {
        "colab": {
          "base_uri": "https://localhost:8080/"
        },
        "id": "q9GuGMns4Ky4",
        "outputId": "6f24c63c-3702-41df-bf2f-ebc9bae782d8"
      },
      "execution_count": null,
      "outputs": [
        {
          "output_type": "stream",
          "name": "stdout",
          "text": [
            "+---------+---+------+------+\n",
            "|     Name|Age|Salary| Sport|\n",
            "+---------+---+------+------+\n",
            "|      lio| 31|  50.0|  foot|\n",
            "|   Lebron| 33|  38.5|Basket|\n",
            "|    Novak| 31|  15.0|Tennis|\n",
            "|     Kobe| 40|  24.5|Basket|\n",
            "|Cristiano| 34|  30.0|  Foot|\n",
            "|   Neymar| 26|  36.8|  Foot|\n",
            "+---------+---+------+------+\n",
            "\n"
          ]
        }
      ]
    },
    {
      "cell_type": "code",
      "source": [
        "df2.select('sport').show()"
      ],
      "metadata": {
        "colab": {
          "base_uri": "https://localhost:8080/"
        },
        "id": "i71BUPDx4TQn",
        "outputId": "4f201ada-bcc6-4e01-cf3e-f4e4b2c584ba"
      },
      "execution_count": null,
      "outputs": [
        {
          "output_type": "stream",
          "name": "stdout",
          "text": [
            "+------+\n",
            "| sport|\n",
            "+------+\n",
            "|  foot|\n",
            "|Basket|\n",
            "|Tennis|\n",
            "|Basket|\n",
            "|  Foot|\n",
            "|  Foot|\n",
            "+------+\n",
            "\n"
          ]
        }
      ]
    },
    {
      "cell_type": "code",
      "source": [
        "df2.groupBy('Sport').avg().select('sport', 'avg(Salary)').show()"
      ],
      "metadata": {
        "colab": {
          "base_uri": "https://localhost:8080/"
        },
        "id": "Bl4f_Y_Y4Ysg",
        "outputId": "f0a9de96-f77c-47d8-f322-4213daa41ec9"
      },
      "execution_count": null,
      "outputs": [
        {
          "output_type": "stream",
          "name": "stdout",
          "text": [
            "+------+-----------+\n",
            "| sport|avg(Salary)|\n",
            "+------+-----------+\n",
            "|Tennis|       15.0|\n",
            "|Basket|       31.5|\n",
            "|  foot|       50.0|\n",
            "|  Foot|       33.4|\n",
            "+------+-----------+\n",
            "\n"
          ]
        }
      ]
    },
    {
      "cell_type": "code",
      "source": [
        "df2.columns"
      ],
      "metadata": {
        "colab": {
          "base_uri": "https://localhost:8080/"
        },
        "id": "5f61f1HA41Be",
        "outputId": "7c84e55c-f9b8-4511-ac63-b8ddd70fa9f3"
      },
      "execution_count": null,
      "outputs": [
        {
          "output_type": "execute_result",
          "data": {
            "text/plain": [
              "['Name', 'Age', 'Salary', 'Sport']"
            ]
          },
          "metadata": {},
          "execution_count": 28
        }
      ]
    },
    {
      "cell_type": "code",
      "source": [
        "for i in range(4):\n",
        "  print(df2.columns[i])"
      ],
      "metadata": {
        "colab": {
          "base_uri": "https://localhost:8080/"
        },
        "id": "4g-5zy1n47wW",
        "outputId": "843bcd07-7267-4306-93df-b19c945358a1"
      },
      "execution_count": null,
      "outputs": [
        {
          "output_type": "stream",
          "name": "stdout",
          "text": [
            "Name\n",
            "Age\n",
            "Salary\n",
            "Sport\n"
          ]
        }
      ]
    },
    {
      "cell_type": "code",
      "source": [
        "df2.dtypes"
      ],
      "metadata": {
        "colab": {
          "base_uri": "https://localhost:8080/"
        },
        "id": "jyLId2AR48Rm",
        "outputId": "82adae75-7cd8-4498-8d52-bdb5acba1c0a"
      },
      "execution_count": null,
      "outputs": [
        {
          "output_type": "execute_result",
          "data": {
            "text/plain": [
              "[('Name', 'string'), ('Age', 'int'), ('Salary', 'double'), ('Sport', 'string')]"
            ]
          },
          "metadata": {},
          "execution_count": 31
        }
      ]
    },
    {
      "cell_type": "code",
      "source": [
        "df2.filter(df2.Salary>30).show()"
      ],
      "metadata": {
        "colab": {
          "base_uri": "https://localhost:8080/"
        },
        "id": "oZ7ad9UK5QUf",
        "outputId": "88e3da06-8865-491d-f753-3e1f0b069f2c"
      },
      "execution_count": null,
      "outputs": [
        {
          "output_type": "stream",
          "name": "stdout",
          "text": [
            "+------+---+------+------+\n",
            "|  Name|Age|Salary| Sport|\n",
            "+------+---+------+------+\n",
            "|   lio| 31|  50.0|  foot|\n",
            "|Lebron| 33|  38.5|Basket|\n",
            "|Neymar| 26|  36.8|  Foot|\n",
            "+------+---+------+------+\n",
            "\n"
          ]
        }
      ]
    },
    {
      "cell_type": "code",
      "source": [
        "from pyspark.sql import DataFrame\n",
        "print (DataFrame.agg.__doc__)"
      ],
      "metadata": {
        "colab": {
          "base_uri": "https://localhost:8080/"
        },
        "id": "YnANu-vf5abm",
        "outputId": "ff027412-a9b9-4e3d-9e29-08425ddf1ad2"
      },
      "execution_count": null,
      "outputs": [
        {
          "output_type": "stream",
          "name": "stdout",
          "text": [
            "Aggregate on the entire :class:`DataFrame` without groups\n",
            "        (shorthand for ``df.groupBy().agg()``).\n",
            "\n",
            "        .. versionadded:: 1.3.0\n",
            "\n",
            "        .. versionchanged:: 3.4.0\n",
            "            Supports Spark Connect.\n",
            "\n",
            "        Parameters\n",
            "        ----------\n",
            "        exprs : :class:`Column` or dict of key and value strings\n",
            "            Columns or expressions to aggregate DataFrame by.\n",
            "\n",
            "        Returns\n",
            "        -------\n",
            "        :class:`DataFrame`\n",
            "            Aggregated DataFrame.\n",
            "\n",
            "        Examples\n",
            "        --------\n",
            "        >>> from pyspark.sql import functions as sf\n",
            "        >>> df = spark.createDataFrame([(2, \"Alice\"), (5, \"Bob\")], schema=[\"age\", \"name\"])\n",
            "        >>> df.agg({\"age\": \"max\"}).show()\n",
            "        +--------+\n",
            "        |max(age)|\n",
            "        +--------+\n",
            "        |       5|\n",
            "        +--------+\n",
            "        >>> df.agg(sf.min(df.age)).show()\n",
            "        +--------+\n",
            "        |min(age)|\n",
            "        +--------+\n",
            "        |       2|\n",
            "        +--------+\n",
            "        \n"
          ]
        }
      ]
    },
    {
      "cell_type": "code",
      "source": [
        "df1.show()"
      ],
      "metadata": {
        "colab": {
          "base_uri": "https://localhost:8080/"
        },
        "id": "tfYVDmFHqEck",
        "outputId": "72a2f004-6e9f-46a5-f558-57057328d72a"
      },
      "execution_count": null,
      "outputs": [
        {
          "output_type": "stream",
          "name": "stdout",
          "text": [
            "+---------+---+------+------+\n",
            "|     Name|Age|Salary| Sport|\n",
            "+---------+---+------+------+\n",
            "|      lio| 31|  50.0|  foot|\n",
            "|   Lebron| 33|  38.5|Basket|\n",
            "|    Novak| 31|  15.0|Tennis|\n",
            "|     Kobe| 40|  24.5|Basket|\n",
            "|Cristiano| 34|  30.0|  Foot|\n",
            "|   Neymar| 26|  36.8|  Foot|\n",
            "+---------+---+------+------+\n",
            "\n"
          ]
        }
      ]
    },
    {
      "cell_type": "code",
      "source": [
        "df2 = spark.read.csv('financial_data_2000_2018_cleaned.csv', inferSchema= True , header = True )"
      ],
      "metadata": {
        "id": "WRJTM8IJreUy"
      },
      "execution_count": null,
      "outputs": []
    },
    {
      "cell_type": "code",
      "source": [
        "df2.show()"
      ],
      "metadata": {
        "colab": {
          "base_uri": "https://localhost:8080/"
        },
        "id": "iBEkAjUIrjx0",
        "outputId": "533bdfb7-1778-4963-fcd8-b28088e287a1"
      },
      "execution_count": null,
      "outputs": [
        {
          "output_type": "stream",
          "name": "stdout",
          "text": [
            "+---+-----+----------+----+----+----+---------+-------+\n",
            "|_c0|stock| timestamp|open|high| low|adj_close| volume|\n",
            "+---+-----+----------+----+----+----+---------+-------+\n",
            "|  0| GERN|1532988000|3.34|3.59|3.59|     3.59|4650479|\n",
            "|  1| GERN|1532901600|3.36|3.45|3.45|      3.3|3571600|\n",
            "|  2| GERN|1532642400|3.44| 3.5| 3.5|     3.34|2928697|\n",
            "|  3| GERN|1532556000|3.26|3.56|3.56|     3.44|4209642|\n",
            "|  4| GERN|1532469600|3.37|3.42|3.42|     3.22|3568900|\n",
            "|  5| GERN|1532383200|3.41|3.45|3.45|     3.35|3323260|\n",
            "|  6| GERN|1532296800|3.48|3.49|3.49|     3.37|2339213|\n",
            "|  7| GERN|1532037600|3.45|3.46|3.46|     3.43|7744407|\n",
            "|  8| GERN|1531951200|3.59| 3.6| 3.6|     3.48|5923377|\n",
            "|  9| GERN|1531864800|3.57|3.63|3.63|     3.59|3021013|\n",
            "| 10| GERN|1531778400| 3.6|3.63|3.63|     3.59|4404628|\n",
            "| 11| GERN|1531692000|3.63|3.67|3.67|     3.44|3339884|\n",
            "| 12| GERN|1531432800|3.77|3.78|3.78|     3.62|2201246|\n",
            "| 13| GERN|1531346400|3.58|3.83|3.83|     3.81|3812034|\n",
            "| 14| GERN|1531260000| 3.5|3.62|3.62|     3.59|2971108|\n",
            "| 15| GERN|1531173600|3.75|3.82|3.82|      3.6|3163657|\n",
            "| 16| GERN|1531087200|3.75|3.87|3.87|     3.75|2040190|\n",
            "| 17| GERN|1530828000| 3.7|3.85|3.85|     3.75|3634296|\n",
            "| 18| GERN|1530741600|3.65|3.94|3.94|     3.61|5535966|\n",
            "| 19| GERN|1530568800|3.59|3.62|3.62|     3.55|1501390|\n",
            "+---+-----+----------+----+----+----+---------+-------+\n",
            "only showing top 20 rows\n",
            "\n"
          ]
        }
      ]
    },
    {
      "cell_type": "code",
      "source": [
        "df2.printSchema()"
      ],
      "metadata": {
        "colab": {
          "base_uri": "https://localhost:8080/"
        },
        "id": "A2-sUWfErWas",
        "outputId": "21488eaa-465b-4194-c38b-e863837d6905"
      },
      "execution_count": null,
      "outputs": [
        {
          "output_type": "stream",
          "name": "stdout",
          "text": [
            "root\n",
            " |-- _c0: integer (nullable = true)\n",
            " |-- stock: string (nullable = true)\n",
            " |-- timestamp: integer (nullable = true)\n",
            " |-- open: double (nullable = true)\n",
            " |-- high: double (nullable = true)\n",
            " |-- low: double (nullable = true)\n",
            " |-- adj_close: double (nullable = true)\n",
            " |-- volume: integer (nullable = true)\n",
            "\n"
          ]
        }
      ]
    },
    {
      "cell_type": "code",
      "source": [
        "df3 = df2.drop('adj_close', '_c0')"
      ],
      "metadata": {
        "id": "M8qOoOD3sSt6"
      },
      "execution_count": null,
      "outputs": []
    },
    {
      "cell_type": "code",
      "source": [
        "df3.describe().show()"
      ],
      "metadata": {
        "colab": {
          "base_uri": "https://localhost:8080/"
        },
        "id": "1thLfgMgsyuS",
        "outputId": "c4c2d9a4-2b5d-4391-fd51-942aba3759a8"
      },
      "execution_count": null,
      "outputs": [
        {
          "output_type": "stream",
          "name": "stdout",
          "text": [
            "+-------+------+--------------------+-----------------+-----------------+-----------------+--------------------+\n",
            "|summary| stock|           timestamp|             open|             high|              low|              volume|\n",
            "+-------+------+--------------------+-----------------+-----------------+-----------------+--------------------+\n",
            "|  count|168615|              168615|           168615|           168615|           168615|              168615|\n",
            "|   mean|  NULL| 1.256364460955431E9|32.53267989206206|32.97297523945095|32.97297523945095|1.5993473235584022E7|\n",
            "| stddev|  NULL|1.6253456539854378E8|75.42714472760872|76.15882252582271|76.15882252582271|3.2387729679567922E7|\n",
            "|    min|  AAPL|           964994400|             0.08|             0.08|             0.08|                   0|\n",
            "|    max|  URBN|          1532988000|          1876.05|          1880.05|          1880.05|          1856379000|\n",
            "+-------+------+--------------------+-----------------+-----------------+-----------------+--------------------+\n",
            "\n"
          ]
        }
      ]
    },
    {
      "cell_type": "code",
      "source": [
        "df3.show(n=5)"
      ],
      "metadata": {
        "colab": {
          "base_uri": "https://localhost:8080/"
        },
        "id": "mIk0Yw8Xs2gi",
        "outputId": "b1c6d9ea-2685-4e07-f3c4-258cf351fae5"
      },
      "execution_count": null,
      "outputs": [
        {
          "output_type": "stream",
          "name": "stdout",
          "text": [
            "+-----+----------+----+----+----+-------+\n",
            "|stock| timestamp|open|high| low| volume|\n",
            "+-----+----------+----+----+----+-------+\n",
            "| GERN|1532988000|3.34|3.59|3.59|4650479|\n",
            "| GERN|1532901600|3.36|3.45|3.45|3571600|\n",
            "| GERN|1532642400|3.44| 3.5| 3.5|2928697|\n",
            "| GERN|1532556000|3.26|3.56|3.56|4209642|\n",
            "| GERN|1532469600|3.37|3.42|3.42|3568900|\n",
            "+-----+----------+----+----+----+-------+\n",
            "only showing top 5 rows\n",
            "\n"
          ]
        }
      ]
    },
    {
      "cell_type": "code",
      "source": [
        "df3.groupBy('stock').avg('open').show()"
      ],
      "metadata": {
        "colab": {
          "base_uri": "https://localhost:8080/"
        },
        "id": "uvxURNems-y8",
        "outputId": "667100e2-78ae-4118-9e34-9069d965d830"
      },
      "execution_count": null,
      "outputs": [
        {
          "output_type": "stream",
          "name": "stdout",
          "text": [
            "+-----+------------------+\n",
            "|stock|         avg(open)|\n",
            "+-----+------------------+\n",
            "| ESRX|39.668278145695204|\n",
            "| AAPL| 46.57007947019884|\n",
            "| CSCO|20.341494481236165|\n",
            "| HIBB|28.088428256070546|\n",
            "| GILD| 33.14560706401762|\n",
            "| QCOM|38.961152317880725|\n",
            "| JBLU|12.049055041402806|\n",
            "| SIRI| 4.582589403973519|\n",
            "| GERN|   5.8217041942605|\n",
            "| INTC|21.291927152317903|\n",
            "| ROST|22.064602649006712|\n",
            "|   CA|21.400026490066303|\n",
            "| PZZA|24.869752759381868|\n",
            "| ATVI|15.850871964680001|\n",
            "| TNDM| 86.86601687763711|\n",
            "| ADSK| 39.36861147902863|\n",
            "| MRVL|12.738902869757169|\n",
            "| AMAT| 17.73304194260476|\n",
            "| EBAY| 16.80686754966884|\n",
            "| SBUX|21.656247240618104|\n",
            "+-----+------------------+\n",
            "only showing top 20 rows\n",
            "\n"
          ]
        }
      ]
    },
    {
      "cell_type": "code",
      "source": [
        "from pyspark.sql.functions import(\n",
        "    dayofmonth, dayofyear, month, hour, weekofyear, year, format_number, date_format)\n"
      ],
      "metadata": {
        "id": "449uMxpjufF6"
      },
      "execution_count": null,
      "outputs": []
    },
    {
      "cell_type": "code",
      "source": [
        "import datetime\n",
        "from pyspark.sql.types import DateType\n",
        "from pyspark.sql.functions import udf, col"
      ],
      "metadata": {
        "id": "rFafdXJ40c7X"
      },
      "execution_count": null,
      "outputs": []
    },
    {
      "cell_type": "code",
      "source": [
        "\n",
        "def toDate(timeAsInteger):\n",
        "    return datetime.datetime.fromtimestamp(timeAsInteger)\n",
        "\n",
        "\n",
        "toDateUDF = udf(toDate, DateType())\n"
      ],
      "metadata": {
        "id": "eIpqEk1009hC"
      },
      "execution_count": null,
      "outputs": []
    },
    {
      "cell_type": "code",
      "source": [
        "\n",
        "newDF = df3.withColumn('date', toDateUDF(col('timestamp'))).drop('_c0').drop('timestamp')\n",
        "\n"
      ],
      "metadata": {
        "id": "NTbIJpf54__s"
      },
      "execution_count": null,
      "outputs": []
    },
    {
      "cell_type": "code",
      "source": [
        "newDF.show()"
      ],
      "metadata": {
        "colab": {
          "base_uri": "https://localhost:8080/"
        },
        "id": "g_pYehmx5l32",
        "outputId": "32bfa66c-49c3-478b-81a1-6b3b7b08074d"
      },
      "execution_count": null,
      "outputs": [
        {
          "output_type": "stream",
          "name": "stdout",
          "text": [
            "+-----+----+----+----+-------+----------+\n",
            "|stock|open|high| low| volume|      date|\n",
            "+-----+----+----+----+-------+----------+\n",
            "| GERN|3.34|3.59|3.59|4650479|2018-07-30|\n",
            "| GERN|3.36|3.45|3.45|3571600|2018-07-29|\n",
            "| GERN|3.44| 3.5| 3.5|2928697|2018-07-26|\n",
            "| GERN|3.26|3.56|3.56|4209642|2018-07-25|\n",
            "| GERN|3.37|3.42|3.42|3568900|2018-07-24|\n",
            "| GERN|3.41|3.45|3.45|3323260|2018-07-23|\n",
            "| GERN|3.48|3.49|3.49|2339213|2018-07-22|\n",
            "| GERN|3.45|3.46|3.46|7744407|2018-07-19|\n",
            "| GERN|3.59| 3.6| 3.6|5923377|2018-07-18|\n",
            "| GERN|3.57|3.63|3.63|3021013|2018-07-17|\n",
            "| GERN| 3.6|3.63|3.63|4404628|2018-07-16|\n",
            "| GERN|3.63|3.67|3.67|3339884|2018-07-15|\n",
            "| GERN|3.77|3.78|3.78|2201246|2018-07-12|\n",
            "| GERN|3.58|3.83|3.83|3812034|2018-07-11|\n",
            "| GERN| 3.5|3.62|3.62|2971108|2018-07-10|\n",
            "| GERN|3.75|3.82|3.82|3163657|2018-07-09|\n",
            "| GERN|3.75|3.87|3.87|2040190|2018-07-08|\n",
            "| GERN| 3.7|3.85|3.85|3634296|2018-07-05|\n",
            "| GERN|3.65|3.94|3.94|5535966|2018-07-04|\n",
            "| GERN|3.59|3.62|3.62|1501390|2018-07-02|\n",
            "+-----+----+----+----+-------+----------+\n",
            "only showing top 20 rows\n",
            "\n"
          ]
        }
      ]
    },
    {
      "cell_type": "code",
      "source": [
        "newDF.printSchema()"
      ],
      "metadata": {
        "colab": {
          "base_uri": "https://localhost:8080/"
        },
        "id": "7WKEsWVr53Zb",
        "outputId": "9262a4c3-240e-48ea-954f-94f8706773a2"
      },
      "execution_count": null,
      "outputs": [
        {
          "output_type": "stream",
          "name": "stdout",
          "text": [
            "root\n",
            " |-- stock: string (nullable = true)\n",
            " |-- open: double (nullable = true)\n",
            " |-- high: double (nullable = true)\n",
            " |-- low: double (nullable = true)\n",
            " |-- volume: integer (nullable = true)\n",
            " |-- date: date (nullable = true)\n",
            "\n"
          ]
        }
      ]
    },
    {
      "cell_type": "code",
      "source": [
        "newDF.select(year(newDF.date)).show()"
      ],
      "metadata": {
        "colab": {
          "base_uri": "https://localhost:8080/"
        },
        "id": "BCEkkqWf9Lsz",
        "outputId": "457ec72f-faf7-46a1-df6c-3f1306dbb836"
      },
      "execution_count": null,
      "outputs": [
        {
          "output_type": "stream",
          "name": "stdout",
          "text": [
            "+----------+\n",
            "|year(date)|\n",
            "+----------+\n",
            "|      2018|\n",
            "|      2018|\n",
            "|      2018|\n",
            "|      2018|\n",
            "|      2018|\n",
            "|      2018|\n",
            "|      2018|\n",
            "|      2018|\n",
            "|      2018|\n",
            "|      2018|\n",
            "|      2018|\n",
            "|      2018|\n",
            "|      2018|\n",
            "|      2018|\n",
            "|      2018|\n",
            "|      2018|\n",
            "|      2018|\n",
            "|      2018|\n",
            "|      2018|\n",
            "|      2018|\n",
            "+----------+\n",
            "only showing top 20 rows\n",
            "\n"
          ]
        }
      ]
    },
    {
      "cell_type": "code",
      "source": [
        "newDF = newDF.withColumn('Year', year(newDF['date']))"
      ],
      "metadata": {
        "id": "-pQ4KTPf9lh0"
      },
      "execution_count": null,
      "outputs": []
    },
    {
      "cell_type": "code",
      "source": [
        "newDF.show()"
      ],
      "metadata": {
        "colab": {
          "base_uri": "https://localhost:8080/"
        },
        "id": "IFAlJRge90s0",
        "outputId": "add333c8-24c7-457e-fabb-d59fa289234f"
      },
      "execution_count": null,
      "outputs": [
        {
          "output_type": "stream",
          "name": "stdout",
          "text": [
            "+-----+----+----+----+-------+----------+----+\n",
            "|stock|open|high| low| volume|      date|Year|\n",
            "+-----+----+----+----+-------+----------+----+\n",
            "| GERN|3.34|3.59|3.59|4650479|2018-07-30|2018|\n",
            "| GERN|3.36|3.45|3.45|3571600|2018-07-29|2018|\n",
            "| GERN|3.44| 3.5| 3.5|2928697|2018-07-26|2018|\n",
            "| GERN|3.26|3.56|3.56|4209642|2018-07-25|2018|\n",
            "| GERN|3.37|3.42|3.42|3568900|2018-07-24|2018|\n",
            "| GERN|3.41|3.45|3.45|3323260|2018-07-23|2018|\n",
            "| GERN|3.48|3.49|3.49|2339213|2018-07-22|2018|\n",
            "| GERN|3.45|3.46|3.46|7744407|2018-07-19|2018|\n",
            "| GERN|3.59| 3.6| 3.6|5923377|2018-07-18|2018|\n",
            "| GERN|3.57|3.63|3.63|3021013|2018-07-17|2018|\n",
            "| GERN| 3.6|3.63|3.63|4404628|2018-07-16|2018|\n",
            "| GERN|3.63|3.67|3.67|3339884|2018-07-15|2018|\n",
            "| GERN|3.77|3.78|3.78|2201246|2018-07-12|2018|\n",
            "| GERN|3.58|3.83|3.83|3812034|2018-07-11|2018|\n",
            "| GERN| 3.5|3.62|3.62|2971108|2018-07-10|2018|\n",
            "| GERN|3.75|3.82|3.82|3163657|2018-07-09|2018|\n",
            "| GERN|3.75|3.87|3.87|2040190|2018-07-08|2018|\n",
            "| GERN| 3.7|3.85|3.85|3634296|2018-07-05|2018|\n",
            "| GERN|3.65|3.94|3.94|5535966|2018-07-04|2018|\n",
            "| GERN|3.59|3.62|3.62|1501390|2018-07-02|2018|\n",
            "+-----+----+----+----+-------+----------+----+\n",
            "only showing top 20 rows\n",
            "\n"
          ]
        }
      ]
    },
    {
      "cell_type": "code",
      "source": [
        "newDF.groupBy(\"Year\").avg().show()"
      ],
      "metadata": {
        "colab": {
          "base_uri": "https://localhost:8080/"
        },
        "id": "S_Z90mvN-TKV",
        "outputId": "76203262-9457-4280-ed94-5fa579ad2195"
      },
      "execution_count": null,
      "outputs": [
        {
          "output_type": "stream",
          "name": "stdout",
          "text": [
            "+----+------------------+------------------+------------------+--------------------+---------+\n",
            "|Year|         avg(open)|         avg(high)|          avg(low)|         avg(volume)|avg(Year)|\n",
            "+----+------------------+------------------+------------------+--------------------+---------+\n",
            "|2003| 11.65837074829932|11.863064625850328|11.863064625850328|1.7135668636281177E7|   2003.0|\n",
            "|2007|20.222501838042206|20.496642159437055|20.496642159437055|2.0829747828694467E7|   2007.0|\n",
            "|2018|  99.5367948717948|100.70263962065324|100.70263962065324|   8745056.650333684|   2018.0|\n",
            "|2015|  58.6411772486772|59.357164224664125|59.357164224664125|   9425445.553825803|   2015.0|\n",
            "|2006| 17.76047593410143|18.016387423279856|18.016387423279856|1.9243972956282977E7|   2006.0|\n",
            "|2013|  39.3040882597835| 39.74850124895931| 39.74850124895931|1.2242753787781015E7|   2013.0|\n",
            "|2014| 51.46968050468046| 52.10128408628393| 52.10128408628393|1.0462371875050874E7|   2014.0|\n",
            "|2004|14.588106488808515|14.805399050418275|14.805399050418275| 1.772782576746552E7|   2004.0|\n",
            "|2012| 31.96129894736843| 32.32882210526317| 32.32882210526317|1.4564025043789474E7|   2012.0|\n",
            "|2009| 16.00632623224736| 16.29115183792816| 16.29115183792816| 1.905672048391813E7|   2009.0|\n",
            "|2016|60.664125966625754|61.365161782661815|61.365161782661815|   9008336.212759463|   2016.0|\n",
            "|2001|13.658922856460464| 14.14187962741823| 14.14187962741823| 1.999552010568426E7|   2001.0|\n",
            "|2005| 16.09104523160765| 16.30440108991829| 16.30440108991829| 1.795909356425068E7|   2005.0|\n",
            "|2000| 22.43221962616816| 23.36624415887844| 23.36624415887844|1.9829623424065422E7|   2000.0|\n",
            "|2010|22.449637635756012|22.743408521303223|22.743408521303223|1.9952587485484544E7|   2010.0|\n",
            "|2011| 28.17222639933171|28.574011069340138|28.574011069340138|1.7670986534774438E7|   2011.0|\n",
            "|2008|17.302878094445592| 17.69948408570833| 17.69948408570833|2.4367192403994177E7|   2008.0|\n",
            "|2017| 75.36500255388702| 76.02173868628051| 76.02173868628051|   7753249.809786495|   2017.0|\n",
            "|2002|10.145930750771354|10.393064792595148|10.393064792595148|1.9303430804022398E7|   2002.0|\n",
            "+----+------------------+------------------+------------------+--------------------+---------+\n",
            "\n"
          ]
        }
      ]
    },
    {
      "cell_type": "code",
      "source": [
        "newDF.groupBy('Year').avg().select(['Year', 'avg(high)']).show()"
      ],
      "metadata": {
        "colab": {
          "base_uri": "https://localhost:8080/"
        },
        "id": "r-oVJAmj-gux",
        "outputId": "399b4037-ee9a-4fb6-9a42-dbc3b166cb4b"
      },
      "execution_count": null,
      "outputs": [
        {
          "output_type": "stream",
          "name": "stdout",
          "text": [
            "+----+------------------+\n",
            "|Year|         avg(high)|\n",
            "+----+------------------+\n",
            "|2003|11.863064625850328|\n",
            "|2007|20.496642159437055|\n",
            "|2018|100.70263962065324|\n",
            "|2015|59.357164224664125|\n",
            "|2006|18.016387423279856|\n",
            "|2013| 39.74850124895931|\n",
            "|2014| 52.10128408628393|\n",
            "|2004|14.805399050418275|\n",
            "|2012| 32.32882210526317|\n",
            "|2009| 16.29115183792816|\n",
            "|2016|61.365161782661815|\n",
            "|2001| 14.14187962741823|\n",
            "|2005| 16.30440108991829|\n",
            "|2000| 23.36624415887844|\n",
            "|2010|22.743408521303223|\n",
            "|2011|28.574011069340138|\n",
            "|2008| 17.69948408570833|\n",
            "|2017| 76.02173868628051|\n",
            "|2002|10.393064792595148|\n",
            "+----+------------------+\n",
            "\n"
          ]
        }
      ]
    },
    {
      "cell_type": "code",
      "source": [
        "from pyspark.sql import functions as F"
      ],
      "metadata": {
        "id": "8b1vC51ZALrV"
      },
      "execution_count": null,
      "outputs": []
    },
    {
      "cell_type": "code",
      "source": [
        "vDF = newDF.groupBy('Year').agg(F.min('Volume'), F.max('Volume'), F.avg('Volume')).orderBy('Year')"
      ],
      "metadata": {
        "id": "89J_eo0E_gPz"
      },
      "execution_count": null,
      "outputs": []
    },
    {
      "cell_type": "code",
      "source": [
        "vDF.show()"
      ],
      "metadata": {
        "colab": {
          "base_uri": "https://localhost:8080/"
        },
        "id": "_R89lssQAXfW",
        "outputId": "08fe6281-6b16-493e-d246-6ae1f073165d"
      },
      "execution_count": null,
      "outputs": [
        {
          "output_type": "stream",
          "name": "stdout",
          "text": [
            "+----+-----------+-----------+--------------------+\n",
            "|Year|min(Volume)|max(Volume)|         avg(Volume)|\n",
            "+----+-----------+-----------+--------------------+\n",
            "|2000|        338| 1856379000|1.9829623424065422E7|\n",
            "|2001|          0|  468531000| 1.999552010568426E7|\n",
            "|2002|          0|  428108800|1.9303430804022398E7|\n",
            "|2003|      14625|  389484200|1.7135668636281177E7|\n",
            "|2004|       4000|  692106800| 1.772782576746552E7|\n",
            "|2005|          0|  792412600| 1.795909356425068E7|\n",
            "|2006|       3600|  666021300|1.9243972956282977E7|\n",
            "|2007|          0|  837920300|2.0829747828694467E7|\n",
            "|2008|       1400|  843263400|2.4367192403994177E7|\n",
            "|2009|          0|  458091200| 1.905672048391813E7|\n",
            "|2010|       5500|  609834400|1.9952587485484544E7|\n",
            "|2011|          0|  560038939|1.7670986534774438E7|\n",
            "|2012|      52519|  376528040|1.4564025043789474E7|\n",
            "|2013|          0|  365212953|1.2242753787781015E7|\n",
            "|2014|       2353|  407439959|1.0462371875050874E7|\n",
            "|2015|       4082|  219415189|   9425445.553825803|\n",
            "|2016|       4153|  136526573|   9008336.212759463|\n",
            "|2017|       6837|  111985040|   7753249.809786495|\n",
            "|2018|     100042|  116478986|   8745056.650333684|\n",
            "+----+-----------+-----------+--------------------+\n",
            "\n"
          ]
        }
      ]
    },
    {
      "cell_type": "code",
      "source": [
        "new =  vDF.withColumnRenamed('avg(Volume)', 'Avg Yearly Volume')"
      ],
      "metadata": {
        "id": "xTS_FPG6BUh2"
      },
      "execution_count": null,
      "outputs": []
    },
    {
      "cell_type": "code",
      "source": [
        "new.select('Year', format_number('Avg Yearly Volume', 2).alias('Avg')).show()"
      ],
      "metadata": {
        "colab": {
          "base_uri": "https://localhost:8080/"
        },
        "id": "OEJL2jFYBqp3",
        "outputId": "b17a2fad-6c64-4461-9eb1-04deae3de798"
      },
      "execution_count": null,
      "outputs": [
        {
          "output_type": "stream",
          "name": "stdout",
          "text": [
            "+----+-------------+\n",
            "|Year|          Avg|\n",
            "+----+-------------+\n",
            "|2000|19,829,623.42|\n",
            "|2001|19,995,520.11|\n",
            "|2002|19,303,430.80|\n",
            "|2003|17,135,668.64|\n",
            "|2004|17,727,825.77|\n",
            "|2005|17,959,093.56|\n",
            "|2006|19,243,972.96|\n",
            "|2007|20,829,747.83|\n",
            "|2008|24,367,192.40|\n",
            "|2009|19,056,720.48|\n",
            "|2010|19,952,587.49|\n",
            "|2011|17,670,986.53|\n",
            "|2012|14,564,025.04|\n",
            "|2013|12,242,753.79|\n",
            "|2014|10,462,371.88|\n",
            "|2015| 9,425,445.55|\n",
            "|2016| 9,008,336.21|\n",
            "|2017| 7,753,249.81|\n",
            "|2018| 8,745,056.65|\n",
            "+----+-------------+\n",
            "\n"
          ]
        }
      ]
    },
    {
      "cell_type": "code",
      "source": [
        "with_week = newDF.withColumn('week', weekofyear(newDF.date))"
      ],
      "metadata": {
        "id": "3hAD5pZpChUz"
      },
      "execution_count": null,
      "outputs": []
    },
    {
      "cell_type": "code",
      "source": [
        " with_week.show()"
      ],
      "metadata": {
        "colab": {
          "base_uri": "https://localhost:8080/"
        },
        "id": "370FkxQNFGc0",
        "outputId": "86a55628-5565-4b20-91d1-67e4aa8d2d08"
      },
      "execution_count": null,
      "outputs": [
        {
          "output_type": "stream",
          "name": "stdout",
          "text": [
            "+-----+----+----+----+-------+----------+----+----+\n",
            "|stock|open|high| low| volume|      date|Year|week|\n",
            "+-----+----+----+----+-------+----------+----+----+\n",
            "| GERN|3.34|3.59|3.59|4650479|2018-07-30|2018|  31|\n",
            "| GERN|3.36|3.45|3.45|3571600|2018-07-29|2018|  30|\n",
            "| GERN|3.44| 3.5| 3.5|2928697|2018-07-26|2018|  30|\n",
            "| GERN|3.26|3.56|3.56|4209642|2018-07-25|2018|  30|\n",
            "| GERN|3.37|3.42|3.42|3568900|2018-07-24|2018|  30|\n",
            "| GERN|3.41|3.45|3.45|3323260|2018-07-23|2018|  30|\n",
            "| GERN|3.48|3.49|3.49|2339213|2018-07-22|2018|  29|\n",
            "| GERN|3.45|3.46|3.46|7744407|2018-07-19|2018|  29|\n",
            "| GERN|3.59| 3.6| 3.6|5923377|2018-07-18|2018|  29|\n",
            "| GERN|3.57|3.63|3.63|3021013|2018-07-17|2018|  29|\n",
            "| GERN| 3.6|3.63|3.63|4404628|2018-07-16|2018|  29|\n",
            "| GERN|3.63|3.67|3.67|3339884|2018-07-15|2018|  28|\n",
            "| GERN|3.77|3.78|3.78|2201246|2018-07-12|2018|  28|\n",
            "| GERN|3.58|3.83|3.83|3812034|2018-07-11|2018|  28|\n",
            "| GERN| 3.5|3.62|3.62|2971108|2018-07-10|2018|  28|\n",
            "| GERN|3.75|3.82|3.82|3163657|2018-07-09|2018|  28|\n",
            "| GERN|3.75|3.87|3.87|2040190|2018-07-08|2018|  27|\n",
            "| GERN| 3.7|3.85|3.85|3634296|2018-07-05|2018|  27|\n",
            "| GERN|3.65|3.94|3.94|5535966|2018-07-04|2018|  27|\n",
            "| GERN|3.59|3.62|3.62|1501390|2018-07-02|2018|  27|\n",
            "+-----+----+----+----+-------+----------+----+----+\n",
            "only showing top 20 rows\n",
            "\n"
          ]
        }
      ]
    },
    {
      "cell_type": "code",
      "source": [
        "with_week.groupBy('week').agg(F.avg('volume'), F.max('volume')).orderBy('avg(volume)', ascending=False).show()"
      ],
      "metadata": {
        "colab": {
          "base_uri": "https://localhost:8080/"
        },
        "id": "G1xJr-qcLZ62",
        "outputId": "8e315bc0-ffa8-468d-aedc-c2aa9aee4998"
      },
      "execution_count": null,
      "outputs": [
        {
          "output_type": "stream",
          "name": "stdout",
          "text": [
            "+----+--------------------+-----------+\n",
            "|week|         avg(volume)|max(volume)|\n",
            "+----+--------------------+-----------+\n",
            "|   3|  1.94023387805838E7|  591563700|\n",
            "|   4| 1.882049822122571E7|  843263400|\n",
            "|   2|1.8492131440107673E7|  837920300|\n",
            "|  42|1.8356327019190405E7|  692106800|\n",
            "|  43| 1.781321726842584E7|  562201500|\n",
            "|   6|1.7665982594561566E7|  560038939|\n",
            "|  17| 1.750360205319465E7|  591078600|\n",
            "|  41|  1.74088466113943E7|  674632000|\n",
            "|  45|1.7302815113643177E7|  553078278|\n",
            "|  44| 1.727350009948438E7|  488329100|\n",
            "|   5| 1.719710506479546E7|  413058100|\n",
            "|  38|1.6983320689955022E7|  418735100|\n",
            "|   9|1.6972356338301044E7|  404562900|\n",
            "|   7|1.6762058271672107E7|  580857200|\n",
            "|  46| 1.672574349490713E7|  463840300|\n",
            "|  11|1.6597461446497764E7|  354709747|\n",
            "|  29| 1.657833554115899E7|  493127600|\n",
            "|  30|1.6486103215778628E7|  546970200|\n",
            "|  16|1.6477095527205657E7|  468531000|\n",
            "|  39|1.6436168701349325E7| 1856379000|\n",
            "+----+--------------------+-----------+\n",
            "only showing top 20 rows\n",
            "\n"
          ]
        }
      ]
    },
    {
      "cell_type": "code",
      "source": [],
      "metadata": {
        "id": "02R3TeEIN9-A"
      },
      "execution_count": null,
      "outputs": []
    }
  ]
}