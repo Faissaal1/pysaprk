{
  "nbformat": 4,
  "nbformat_minor": 0,
  "metadata": {
    "colab": {
      "provenance": []
    },
    "kernelspec": {
      "name": "python3",
      "display_name": "Python 3"
    },
    "language_info": {
      "name": "python"
    }
  },
  "cells": [
    {
      "cell_type": "code",
      "execution_count": null,
      "metadata": {
        "colab": {
          "base_uri": "https://localhost:8080/"
        },
        "id": "f_KyndFckexc",
        "outputId": "353620e0-1d8c-405a-d31f-0989763d220b"
      },
      "outputs": [
        {
          "output_type": "stream",
          "name": "stdout",
          "text": [
            "Collecting pyspark\n",
            "  Downloading pyspark-3.5.0.tar.gz (316.9 MB)\n",
            "\u001b[2K     \u001b[90m━━━━━━━━━━━━━━━━━━━━━━━━━━━━━━━━━━━━━━━━\u001b[0m \u001b[32m316.9/316.9 MB\u001b[0m \u001b[31m3.5 MB/s\u001b[0m eta \u001b[36m0:00:00\u001b[0m\n",
            "\u001b[?25h  Preparing metadata (setup.py) ... \u001b[?25l\u001b[?25hdone\n",
            "Requirement already satisfied: py4j==0.10.9.7 in /usr/local/lib/python3.10/dist-packages (from pyspark) (0.10.9.7)\n",
            "Building wheels for collected packages: pyspark\n",
            "  Building wheel for pyspark (setup.py) ... \u001b[?25l\u001b[?25hdone\n",
            "  Created wheel for pyspark: filename=pyspark-3.5.0-py2.py3-none-any.whl size=317425344 sha256=312fe6025943775ca52cdd0a801002ee77b3cc6bd2a68bb4a37b2da5e505524e\n",
            "  Stored in directory: /root/.cache/pip/wheels/41/4e/10/c2cf2467f71c678cfc8a6b9ac9241e5e44a01940da8fbb17fc\n",
            "Successfully built pyspark\n",
            "Installing collected packages: pyspark\n",
            "Successfully installed pyspark-3.5.0\n"
          ]
        }
      ],
      "source": [
        "! pip install pyspark"
      ]
    },
    {
      "cell_type": "code",
      "source": [
        "from pyspark.sql import SparkSession\n",
        "from pyspark.sql.functions import col\n",
        "\n",
        "\n"
      ],
      "metadata": {
        "id": "4XroCFznklLE"
      },
      "execution_count": null,
      "outputs": []
    },
    {
      "cell_type": "code",
      "source": [
        "spark = SparkSession.builder.appName(\"clean\").getOrCreate()"
      ],
      "metadata": {
        "id": "6M8k4fDymzkH"
      },
      "execution_count": null,
      "outputs": []
    },
    {
      "cell_type": "code",
      "source": [
        "df = spark.read.option(\"header\", \"true\").csv(\"worldcitiespop.txt\")\n",
        "\n"
      ],
      "metadata": {
        "id": "FIvKO07KmHjd"
      },
      "execution_count": null,
      "outputs": []
    },
    {
      "cell_type": "code",
      "source": [
        "df = df.withColumn(\"Population\", col(\"Population\").cast(\"bigint\"))\n"
      ],
      "metadata": {
        "id": "LoTX6E14CVEp"
      },
      "execution_count": null,
      "outputs": []
    },
    {
      "cell_type": "code",
      "source": [
        "cleaned_df = df.filter(col(\"Population\").cast(\"bigint\").isNotNull())\n"
      ],
      "metadata": {
        "id": "7xA02zsvn6sX"
      },
      "execution_count": null,
      "outputs": []
    },
    {
      "cell_type": "code",
      "source": [
        "min_population = cleaned_df.selectExpr(\"min(Population)\").first()[0]\n",
        "print(\"Population minimale: {}\".format(min_population))"
      ],
      "metadata": {
        "colab": {
          "base_uri": "https://localhost:8080/"
        },
        "id": "XGfd_QS3m0HH",
        "outputId": "c0709ecf-916d-4282-e1fb-a89dfa7f9c5d"
      },
      "execution_count": null,
      "outputs": [
        {
          "output_type": "stream",
          "name": "stdout",
          "text": [
            "Population minimale: 10\n"
          ]
        }
      ]
    },
    {
      "cell_type": "code",
      "source": [
        "max_population = cleaned_df.selectExpr(\"max(Population)\").first()[0]\n",
        "print(\"Population max: {}\".format(max_population))"
      ],
      "metadata": {
        "colab": {
          "base_uri": "https://localhost:8080/"
        },
        "id": "CMBjSZfuChSl",
        "outputId": "c0fe0ed7-0f85-465a-8573-c1da8c0b1da0"
      },
      "execution_count": null,
      "outputs": [
        {
          "output_type": "stream",
          "name": "stdout",
          "text": [
            "Population max: 9998\n"
          ]
        }
      ]
    },
    {
      "cell_type": "code",
      "source": [
        "sum_population = cleaned_df.selectExpr(\"sum(Population)\").first()[0]\n",
        "print(\"Population total: {}\".format(sum_population))"
      ],
      "metadata": {
        "colab": {
          "base_uri": "https://localhost:8080/"
        },
        "id": "8GtRKdSLDQzn",
        "outputId": "7f4815f4-f862-4bd2-9404-babef72d0f3c"
      },
      "execution_count": null,
      "outputs": [
        {
          "output_type": "stream",
          "name": "stdout",
          "text": [
            "Population total: 2289584999.0\n"
          ]
        }
      ]
    },
    {
      "cell_type": "code",
      "source": [
        "average_population = cleaned_df.selectExpr(\"avg(Population)\").first()[0]\n",
        "print(\"Population total: {}\".format(average_population))"
      ],
      "metadata": {
        "colab": {
          "base_uri": "https://localhost:8080/"
        },
        "id": "-wkxGbZ1Dx0W",
        "outputId": "f8caf2c9-6f8b-4f48-d433-1ede73196c04"
      },
      "execution_count": null,
      "outputs": [
        {
          "output_type": "stream",
          "name": "stdout",
          "text": [
            "Population total: 47719.57063359733\n"
          ]
        }
      ]
    },
    {
      "cell_type": "code",
      "source": [
        "from pyspark.sql.functions import log10, floor"
      ],
      "metadata": {
        "id": "69QMK7pRDoTN"
      },
      "execution_count": null,
      "outputs": []
    },
    {
      "cell_type": "code",
      "source": [
        "histogram_df = cleaned_df.withColumn(\"log_population\", floor(log10(col(\"Population\"))))\n",
        "histogram_result = histogram_df.groupBy(\"log_population\").count().orderBy(\"log_population\").collect()\n",
        "\n",
        "print(\"Histogramme de fréquences des populations des villes (échelle logarithmique) :\")\n",
        "for row in histogram_result:\n",
        "    print(\"Classe {}: {} villes\".format(row[\"log_population\"], row[\"count\"]))\n"
      ],
      "metadata": {
        "colab": {
          "base_uri": "https://localhost:8080/"
        },
        "id": "I5HAq0EcIkWN",
        "outputId": "08727d8e-19ad-4a62-a0d5-60bf8264307a"
      },
      "execution_count": null,
      "outputs": [
        {
          "output_type": "stream",
          "name": "stdout",
          "text": [
            "Histogramme de fréquences des populations des villes (échelle logarithmique) :\n",
            "Classe 0: 5 villes\n",
            "Classe 1: 174 villes\n",
            "Classe 2: 2187 villes\n",
            "Classe 3: 20537 villes\n",
            "Classe 4: 21550 villes\n",
            "Classe 5: 3248 villes\n",
            "Classe 6: 269 villes\n",
            "Classe 7: 10 villes\n"
          ]
        }
      ]
    },
    {
      "cell_type": "code",
      "source": [
        "top_10_cities = df.orderBy(col(\"Population\"), ascending=False).limit(10).select(\"City\").collect()\n"
      ],
      "metadata": {
        "id": "0EW4R17wKvr2"
      },
      "execution_count": null,
      "outputs": []
    },
    {
      "cell_type": "code",
      "source": [
        "print(\"\\nTop 10 villes ayant la population la plus importante :\")\n",
        "for city in top_10_cities:\n",
        "    print(city[\"City\"])"
      ],
      "metadata": {
        "colab": {
          "base_uri": "https://localhost:8080/"
        },
        "id": "aJDI8D6lM1Cv",
        "outputId": "0be4f10a-328b-416a-f5de-4c25dc4a4a26"
      },
      "execution_count": null,
      "outputs": [
        {
          "output_type": "stream",
          "name": "stdout",
          "text": [
            "\n",
            "Top 10 villes ayant la population la plus importante :\n",
            "tokyo\n",
            "shanghai\n",
            "bombay\n",
            "karachi\n",
            "delhi\n",
            "new delhi\n",
            "manila\n",
            "moscow\n",
            "seoul\n",
            "sao paulo\n"
          ]
        }
      ]
    },
    {
      "cell_type": "code",
      "source": [
        "cleaned_df.head()"
      ],
      "metadata": {
        "colab": {
          "base_uri": "https://localhost:8080/"
        },
        "id": "BDmvMWLLT5uo",
        "outputId": "7395f8ad-edaf-4397-ba28-241472130045"
      },
      "execution_count": null,
      "outputs": [
        {
          "output_type": "execute_result",
          "data": {
            "text/plain": [
              "Row(Country='ad', City='andorra la vella', AccentCity='Andorra la Vella', Region='07', Population='20430', Latitude='42.5', Longitude='1.5166667')"
            ]
          },
          "metadata": {},
          "execution_count": 83
        }
      ]
    },
    {
      "cell_type": "markdown",
      "source": [],
      "metadata": {
        "id": "Af3mv9zTT6Ta"
      }
    },
    {
      "cell_type": "code",
      "source": [
        "df[(cleaned_df['Country'] == \"fr\") & (cleaned_df['City'] == \"villepinte\")].head(10)"
      ],
      "metadata": {
        "colab": {
          "base_uri": "https://localhost:8080/"
        },
        "id": "Axv8fZsQNpl2",
        "outputId": "2685a428-4256-4713-95b6-5792731ba31d"
      },
      "execution_count": null,
      "outputs": [
        {
          "output_type": "execute_result",
          "data": {
            "text/plain": [
              "[Row(Country='fr', City='villepinte', AccentCity='Villepinte', Region='A8', Population=36557, Latitude='48.962034', Longitude='2.532534'),\n",
              " Row(Country='fr', City='villepinte', AccentCity='Villepinte', Region='A9', Population=None, Latitude='43.282129', Longitude='2.087603')]"
            ]
          },
          "metadata": {},
          "execution_count": 90
        }
      ]
    }
  ]
}